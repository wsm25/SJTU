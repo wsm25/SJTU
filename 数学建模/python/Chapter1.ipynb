{
 "cells": [
  {
   "cell_type": "markdown",
   "metadata": {},
   "source": [
    "# Chapter 1. 约束规划\n",
    "\n",
    "约束规划问题是在一组约束条件的限制下，求一目标函数最大或最小的问题。"
   ]
  },
  {
   "cell_type": "markdown",
   "metadata": {},
   "source": [
    "## 线性规划\n",
    "\n",
    "线性规划问题是约束与目标均线性的问题，其解必然在约束边界上，且（忽略精度问题）\n",
    "现有算法能轻松解算出正确解。\n",
    "\n",
    "### 基础示例\n",
    "例 1 某机床厂生产甲、乙两种机床，每台销售后的利润分别为 4000 元与 3000 元。\n",
    "生产甲机床需用A、B 机器加工，加工时间分别为每台 2 小时和 1 小时；生产乙机床需用\n",
    "A、B、C 三种机器加工，加工时间为每台各一小时。若每天可用于加工的机器时数分别为\n",
    "A 机器 10 小时、B 机器 8 小时和 C 机器 7 小时，问该厂应生产甲、乙机床各几台，\n",
    "才能使总利润最大？\n",
    "\n",
    "我们设该厂生产 $x_1$ 台甲机床和 $x_2$ 乙机床时总利润最大，则 $x_1, x_2$ 应满足\n",
    "\n",
    "$$\n",
    "\\begin{align}\n",
    "\\max\\qquad & z=4x_1+3x_2 \\\\ \n",
    "\\text{s.t.}\\qquad & \\left\\{\n",
    "    \\begin{array}{l}\n",
    "    2x_1+x_2 \\le 10 \\\\\n",
    "    x_1+x_2 \\le 8 \\\\\n",
    "    x_2 \\le 7 \\\\\n",
    "    x_1,x_2 \\ge 0 \\\\\n",
    "    \\end{array}\n",
    "\\right.\\\\\n",
    "\\end{align}\n",
    "$$\n",
    "\n",
    "这里变量 $x_1, x_2$ 称之为决策变量，(1) 式被称为问题的目标函数，(2) 中的几个不等式\n",
    "是问题的约束条件。由于上面的目标函数及约束条件均为线性函数，故被称为线性规划问题。"
   ]
  },
  {
   "cell_type": "markdown",
   "metadata": {},
   "source": [
    "### 数值计算标准型\n",
    "我们采用 MATLAB/Scipy 标准型\n",
    "$$\n",
    "\\begin{align*}\n",
    "\\min_x\\qquad & c^Tx \\\\ \n",
    "\\text{s.t.}\\qquad & \\left\\{\n",
    "    \\begin{align}\n",
    "    &A_{ub}x \\le b_{ub}\\qquad \\\\\n",
    "    &A_{eq}x = b_{eq}\\qquad \\\\\n",
    "    &l \\le x \\le u \\qquad\n",
    "    \\end{align}\n",
    "\\right.\\\\\n",
    "\\end{align*}\n",
    "$$\n",
    "\n",
    "碎碎念：尽管数学上 (3) 可以合并到 (1) 中，列式上也是如此，但是为了计算效率最好将 (3) 提取出来\n",
    "\n",
    "Reference: [linprog | Scipy](https://docs.scipy.org/doc/scipy/reference/generated/scipy.optimize.linprog.html)"
   ]
  },
  {
   "cell_type": "markdown",
   "metadata": {},
   "source": [
    "### 求解器\n",
    "我们使用 `scipy.optimize.linprog` 作为求解器。\n",
    "\n",
    "Requirement: `scipy`\n",
    "\n",
    "函数原型： `linprog(c, A_ub=None, b_ub=None, A_eq=None, b_eq=None, bounds=(0, None), ...)`\n",
    "\n",
    "其中 `c, A_ub, b_ub, A_eq, b_eq` 为标准型对应部分，`bounds` 应为 `list(zip(l, r))`\n",
    "\n",
    "下面是例 1 的求解示例"
   ]
  },
  {
   "cell_type": "code",
   "execution_count": 2,
   "metadata": {},
   "outputs": [
    {
     "data": {
      "text/plain": [
       "        message: Optimization terminated successfully. (HiGHS Status 7: Optimal)\n",
       "        success: True\n",
       "         status: 0\n",
       "            fun: -26.0\n",
       "              x: [ 2.000e+00  6.000e+00]\n",
       "            nit: 2\n",
       "          lower:  residual: [ 2.000e+00  6.000e+00]\n",
       "                 marginals: [ 0.000e+00  0.000e+00]\n",
       "          upper:  residual: [       inf  1.000e+00]\n",
       "                 marginals: [ 0.000e+00  0.000e+00]\n",
       "          eqlin:  residual: []\n",
       "                 marginals: []\n",
       "        ineqlin:  residual: [ 0.000e+00  0.000e+00]\n",
       "                 marginals: [-1.000e+00 -2.000e+00]\n",
       " mip_node_count: 0\n",
       " mip_dual_bound: 0.0\n",
       "        mip_gap: 0.0"
      ]
     },
     "execution_count": 2,
     "metadata": {},
     "output_type": "execute_result"
    }
   ],
   "source": [
    "# linprog(2)\n",
    "from scipy.optimize import linprog\n",
    "\n",
    "c=[-4, -3] # min of negative\n",
    "A_ub=[[2,1],[1,1]]\n",
    "b_ub=[10,8]\n",
    "A_eq=None\n",
    "b_eq=None\n",
    "bounds=[(0, None), (0, 7)]\n",
    "\n",
    "# result should be x*=[2,6], z*=-26\n",
    "linprog(c, A_ub, b_ub, A_eq, b_eq, bounds)"
   ]
  },
  {
   "cell_type": "markdown",
   "metadata": {},
   "source": [
    "## 小技巧\n",
    "### 分段函数\n",
    "例： $\\min |x_1|+|x_2|\\ s.t.\\ Ax\\le b$\n",
    "\n",
    "常规思路是分类讨论。但是利用线性规划的解在边界上的特性，可以构造\n",
    "$u_i=\\frac{x_i+|x_i|}2, v_i=\\frac{|x_i|-x_i}2$，\n",
    "则任意 $x_i$ 被一一映射到了边界 $u_iv_i=0, u_i\\ge0, v_i\\ge0$ 上。因此只需在边界条件中加入\n",
    "$u_i\\ge0, v_i\\ge0$ 即可。\n",
    "\n",
    "代价：双倍的决策变量！\n",
    "\n",
    "### 嵌套 min max\n",
    "例： $\\min_x\\max_y c\\begin{bmatrix} x \\\\ \\hline y \\end{bmatrix} $\n",
    "\n",
    "做法是令内层 min/max 为决策变量。例如此题，令 $z = \\max_y c\\begin{bmatrix} x \\\\ \\hline y \\end{bmatrix} $，\n",
    "则转换为 $\\min_x z\\ s.t.\\ c\\begin{bmatrix} x \\\\ \\hline y \\end{bmatrix}\\le z$ 。\n",
    "\n",
    "代价：多 $c$ 行数个约束。\n",
    "\n",
    "### 互斥规划\n",
    "互斥/多选一规划问题有约束 $\\sum_{j=1}^nx_{ij}=1, x_{ij}=0\\ \\text{or}\\ 1$ （注意区分 0-1 规划）。\n",
    "这里约束 $x_{ij}=0\\ \\text{or}\\ 1$ 由于线性规划解特点，以及 $\\sum_{j=1}^nx_{ij}=1$ \n",
    "的存在，可以被边界 $x_{ij}\\ge0$ 代替。\n",
    "\n",
    "例如，指派问题就是一个互斥规划问题。当然指派问题建议使用匈牙利算法而非线性规划。（见最底下）\n",
    "\n",
    "衍生技巧：存在一组或关系的约束 $A_ix\\le b_i$ 时，可以构造互斥变量变量 m_i，则约束变为和关系的\n",
    "$A_ix\\le b_i+(1-m_i)\\infty$，其中 $\\infty$ 可以取合适的足够大的值。\n",
    "\n",
    "### 整数线性规划\n",
    "我的评价是，不需要学习算法，建议直接调包。\n",
    "\n",
    "`scipy.optimize.linprog` 存在选项 `integrality`。可以 `linprog(..., integrality=[1, 0,...],)` 来\n",
    "声明一个变量为整数。0,1 以外的值请参考文档。\n",
    "\n",
    "0-1 变量？直接边界 [0,1]，再加整数约束就好了。"
   ]
  },
  {
   "cell_type": "markdown",
   "metadata": {},
   "source": [
    "## 小工具\n",
    "下面是一些有助于面向 CV 编程的代码片段"
   ]
  },
  {
   "cell_type": "code",
   "execution_count": 35,
   "metadata": {},
   "outputs": [],
   "source": [
    "# 线性规划模板\n",
    "import scipy\n",
    "import numpy\n",
    "from numpy import asarray as aa\n",
    "\n",
    "class Linprog:\n",
    "    '''\n",
    "    fields: A_ub,b_ub,A_eq,b_eq,bounds: same as linprog param, can edit and append\n",
    "    '''\n",
    "    def __init__(self, \n",
    "        c,\n",
    "        A_ub=None, b_ub=None,\n",
    "        A_eq=None, b_eq=None,\n",
    "        bounds=None,\n",
    "    ):\n",
    "        '''\n",
    "        params:  \n",
    "        `c`: the cT vector  \n",
    "        `A_ub,b_ub,A_eq,b_eq,bounds`: same as linprog param\n",
    "        '''\n",
    "        # const\n",
    "        self.c=aa(c)\n",
    "        size=self.c.shape[0]\n",
    "        # appendable\n",
    "        self.A_ub=list(A_ub) if A_ub else []\n",
    "        self.b_ub=list(b_ub) if b_ub else []\n",
    "        self.A_eq=list(A_eq) if A_eq else []\n",
    "        self.b_eq=list(b_eq) if b_eq else []\n",
    "        # fix sized\n",
    "        self.bounds=bounds if bounds else [(None, None)]*size\n",
    "        self.integrality=[0]*size\n",
    "\n",
    "    '''\n",
    "    互斥规划\n",
    "    @param mutex_set: 0-1 互斥变量下标集合\n",
    "    '''\n",
    "    def add_mutex(self, mutex_set):\n",
    "        mutex_aeq=numpy.zeros_like(c)\n",
    "        for vint in mutex_set:\n",
    "            self.bounds[vint]=(0, None)\n",
    "            mutex_aeq[vint]=1\n",
    "        self.A_eq.append(mutex_aeq)\n",
    "        self.b_eq.append(1)\n",
    "    \n",
    "    def set_int(self, index: bool | int | list[int]):\n",
    "        if index==True:\n",
    "            self.integrality=[1]*len(self.integrality)\n",
    "            return\n",
    "        try:\n",
    "            index=int(index)\n",
    "            self.integrality[index]=1\n",
    "        except:\n",
    "            for i in index:\n",
    "                self.integrality[i]=1\n",
    "    \n",
    "    def __call__(self):\n",
    "        A_ub=self.A_ub if self.A_ub else None\n",
    "        b_ub=self.b_ub if self.b_ub else None\n",
    "        A_eq=self.A_eq if self.A_eq else None\n",
    "        b_eq=self.b_eq if self.b_eq else None\n",
    "        return scipy.optimize.linprog(\n",
    "            self.c, A_ub, b_ub, A_eq, b_eq, \n",
    "            self.bounds,\n",
    "            integrality=self.integrality\n",
    "        )"
   ]
  },
  {
   "cell_type": "code",
   "execution_count": 28,
   "metadata": {},
   "outputs": [
    {
     "data": {
      "text/plain": [
       "        message: Optimization terminated successfully. (HiGHS Status 7: Optimal)\n",
       "        success: True\n",
       "         status: 0\n",
       "            fun: -26.0\n",
       "              x: [ 2.000e+00  6.000e+00]\n",
       "            nit: 2\n",
       "          lower:  residual: [ 2.000e+00  6.000e+00]\n",
       "                 marginals: [ 0.000e+00  0.000e+00]\n",
       "          upper:  residual: [       inf  1.000e+00]\n",
       "                 marginals: [ 0.000e+00  0.000e+00]\n",
       "          eqlin:  residual: []\n",
       "                 marginals: []\n",
       "        ineqlin:  residual: [ 0.000e+00  0.000e+00]\n",
       "                 marginals: [-1.000e+00 -2.000e+00]\n",
       " mip_node_count: 0\n",
       " mip_dual_bound: 0.0\n",
       "        mip_gap: 0.0"
      ]
     },
     "execution_count": 28,
     "metadata": {},
     "output_type": "execute_result"
    }
   ],
   "source": [
    "# 线性规划示例\n",
    "c=[-4, -3] # min of negative\n",
    "A_ub=[[2,1],[1,1]]\n",
    "b_ub=[10,8]\n",
    "A_eq=None\n",
    "b_eq=None\n",
    "bounds=[(0, None), (0, 7)]\n",
    "\n",
    "lp=Linprog(c,A_ub, b_ub, bounds=bounds)\n",
    "\n",
    "lp()"
   ]
  },
  {
   "cell_type": "code",
   "execution_count": 36,
   "metadata": {},
   "outputs": [
    {
     "data": {
      "text/plain": [
       "        message: Optimization terminated successfully. (HiGHS Status 7: Optimal)\n",
       "        success: True\n",
       "         status: 0\n",
       "            fun: -340.0\n",
       "              x: [ 4.000e+00  2.000e+00]\n",
       "            nit: -1\n",
       "          lower:  residual: [ 4.000e+00  2.000e+00]\n",
       "                 marginals: [ 0.000e+00  0.000e+00]\n",
       "          upper:  residual: [       inf        inf]\n",
       "                 marginals: [ 0.000e+00  0.000e+00]\n",
       "          eqlin:  residual: []\n",
       "                 marginals: []\n",
       "        ineqlin:  residual: [ 6.000e+00  2.000e+00]\n",
       "                 marginals: [ 0.000e+00  0.000e+00]\n",
       " mip_node_count: 1\n",
       " mip_dual_bound: -340.0\n",
       "        mip_gap: 0.0"
      ]
     },
     "execution_count": 36,
     "metadata": {},
     "output_type": "execute_result"
    }
   ],
   "source": [
    "# 整数示例\n",
    "c=[-40, -90] # min of negative\n",
    "A_ub=[[9,7],[7,20]]\n",
    "b_ub=[56,70]\n",
    "bounds=[(0, None), (0, None)]\n",
    "\n",
    "lp=Linprog(c,A_ub, b_ub, bounds=bounds)\n",
    "lp.set_int(True)\n",
    "\n",
    "lp()"
   ]
  },
  {
   "cell_type": "code",
   "execution_count": 40,
   "metadata": {},
   "outputs": [
    {
     "data": {
      "text/plain": [
       "array([ 0.,  1.,  0.,  0.,  1.,  0.,  0.,  0.,  0.,  0.,  1., -0., -0.,\n",
       "       -0.,  0.,  1.])"
      ]
     },
     "execution_count": 40,
     "metadata": {},
     "output_type": "execute_result"
    }
   ],
   "source": [
    "# 指派问题 - 线性规划法\n",
    "c=[\n",
    "    16, 15, 19, 22,\n",
    "    17, 21, 19, 18,\n",
    "    24, 22, 18, 17,\n",
    "    17, 19, 22, 16,\n",
    "]\n",
    "lp=Linprog(c)\n",
    "\n",
    "for i in range(4):\n",
    "    lp.add_mutex([i+j*4 for j in range(4)])\n",
    "    lp.add_mutex([j+i*4 for j in range(4)])\n",
    "\n",
    "lp().x"
   ]
  },
  {
   "cell_type": "code",
   "execution_count": 38,
   "metadata": {},
   "outputs": [
    {
     "data": {
      "text/plain": [
       "(array([0, 1, 2, 3]), array([1, 0, 2, 3]))"
      ]
     },
     "execution_count": 38,
     "metadata": {},
     "output_type": "execute_result"
    }
   ],
   "source": [
    "# 指派问题 - 匈牙利算法\n",
    "c=[\n",
    "    [16, 15, 19, 22],\n",
    "    [17, 21, 19, 18],\n",
    "    [24, 22, 18, 17],\n",
    "    [17, 19, 22, 16],\n",
    "]\n",
    "scipy.optimize.linear_sum_assignment(c)"
   ]
  },
  {
   "cell_type": "markdown",
   "metadata": {},
   "source": [
    "## 非线性规划\n",
    "非线性规划就十分暴力了——因为它实在太宽泛了。离散的，连续的，周期的，发散的……千奇百怪的\n",
    "函数都可以归类到非线性函数内，导致没有任何函数性质能给我们用。\n",
    "\n",
    "真正无性质的函数，就只能暴力枚举/搜索。有一定连续性和光滑性的函数可以通过一些微分法快速逼近\n",
    "极值。但任何非线性规划的算法都不能确保解是最佳解。\n",
    "\n",
    "有些情况可以额外设一两个“偏常量”出来，让问题化为线性规划，然后通过目标与这一两个常量的 2D/3D 图像\n",
    "来目测找出最佳点。\n",
    "\n",
    "### 求解器\n",
    "我们可以使用 `scipy.optimize.minimize` 作为求解器。建议解完多迭代几遍。下面是示例\n",
    "\n",
    "$$\n",
    "\\begin{align*}\n",
    "\\min\\qquad & x_1^2+x_2^2+x_3^2+8 \\\\ \n",
    "\\text{s.t.}\\qquad & \\left\\{\n",
    "    \\begin{align*}\n",
    "    &x_1^2-x_2+x_3^2\\ge0 \\\\\n",
    "    &x_1+x_2^2+x_3^3\\le20 \\\\\n",
    "    &-x_1-x_2^2+2=0 \\\\\n",
    "    &x_2+2x_3^2=3 \\\\\n",
    "    &x_1,x_2,x_3\\ge0\\\\\n",
    "    \\end{align*}\n",
    "\\right.\\\\\n",
    "\\end{align*}\n",
    "$$"
   ]
  },
  {
   "cell_type": "code",
   "execution_count": 82,
   "metadata": {},
   "outputs": [
    {
     "data": {
      "text/plain": [
       " message: Optimization terminated successfully\n",
       " success: True\n",
       "  status: 0\n",
       "     fun: 10.651091840572583\n",
       "       x: [ 5.522e-01  1.203e+00  9.478e-01]\n",
       "     nit: 15\n",
       "     jac: [ 1.104e+00  2.407e+00  1.896e+00]\n",
       "    nfev: 71\n",
       "    njev: 15"
      ]
     },
     "execution_count": 82,
     "metadata": {},
     "output_type": "execute_result"
    }
   ],
   "source": [
    "from scipy.optimize import minimize, NonlinearConstraint, LinearConstraint\n",
    "\n",
    "minimize(\n",
    "    fun=lambda v: v[0]*v[0]+v[1]*v[1]+v[2]*v[2]+8,\n",
    "    x0=[0,0,0],\n",
    "    constraints=[\n",
    "        NonlinearConstraint(lambda v:v[0]*v[0]-v[1]+v[2]*v[2], 0, numpy.inf),\n",
    "        NonlinearConstraint(lambda v:v[0]+v[1]*v[1]+v[2]**3, -numpy.inf, 20),\n",
    "        NonlinearConstraint(lambda v:-v[0]-v[1]*v[1]+2, 0, 0),\n",
    "        NonlinearConstraint(lambda v:v[1]+2*v[2]*v[2], 3, 3),\n",
    "        LinearConstraint(numpy.eye(3),numpy.zeros((3)), numpy.inf)\n",
    "    ],\n",
    ")"
   ]
  },
  {
   "cell_type": "markdown",
   "metadata": {},
   "source": [
    "## TODO\n",
    "- 灵敏度分析\n",
    "- 蒙特卡洛法"
   ]
  }
 ],
 "metadata": {
  "kernelspec": {
   "display_name": "Python 3",
   "language": "python",
   "name": "python3"
  },
  "language_info": {
   "codemirror_mode": {
    "name": "ipython",
    "version": 3
   },
   "file_extension": ".py",
   "mimetype": "text/x-python",
   "name": "python",
   "nbconvert_exporter": "python",
   "pygments_lexer": "ipython3",
   "version": "3.12.2"
  }
 },
 "nbformat": 4,
 "nbformat_minor": 2
}
