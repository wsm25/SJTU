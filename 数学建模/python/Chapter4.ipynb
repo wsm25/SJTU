{
 "cells": [
  {
   "cell_type": "markdown",
   "metadata": {},
   "source": [
    "# Chapter 4. 符号计算\n",
    "符号计算对人来说不容易，对计算机更是如此。\n",
    "\n",
    "有不少算法，尤其优化算法，具有分段性，强依赖于值，这些是不可符号计算的。但有不少任务还是可以符号化的，\n",
    "比如解微分方程，概率分布等。\n",
    "\n",
    "我们采用 sympy 作为符号计算器。至于专用软件，MATLAB 符号计算十分简陋，不如 mathematica。"
   ]
  },
  {
   "cell_type": "markdown",
   "metadata": {},
   "source": [
    "## 基础\n",
    "\n",
    "不同于 mathematica 的专为符号计算设计，sympy 由于 python 语言限制，符号和表达式都要手动定义。\n",
    "\n",
    "注意 assumption 部分并不智能，它只会做最简单的判断：\n",
    "\n",
    "> The assumptions system is intended to be efficient though: it is expected many more complex queries\n",
    "> will not be fully resolved. This is because assumptions queries are primarily used internally by SymPy\n",
    "> as part of low-level calculations. Making the system more comprehensive would slow SymPy down."
   ]
  },
  {
   "cell_type": "code",
   "execution_count": 1,
   "metadata": {},
   "outputs": [],
   "source": [
    "import sympy\n",
    "# 定义变量\n",
    "a,b,c=sympy.symbols(\"a b c\") # 定义多变量\n",
    "a1,a2,a3=sympy.symbols(\"a1:4\") # 批量定义\n",
    "sympy.symbols('x5(:2)') # (x50, x51)\n",
    "sympy.symbols('x:2(1:3)') # (x01, x02, x11, x12)\n",
    "sympy.symbols(\"varphi \\\\varphi\") # 拉丁字母，latex；注意底层是字符串，显示同一个符号但是算两个变量\n",
    "# 解析 `S`\n",
    "1/2 # 0.5\n",
    "sympy.S(1)/2 # 1/2\n",
    "sympy.S(\"1/2\") # 1/2\n",
    "sympy.S('A * x**2 + B * x + C') # A x^2 + B x + C\n",
    "# 添加假设\n",
    "sympy.symbols('f,g,h', cls=sympy.Function) # 函数\n",
    "sympy.symbols('n', positive=True, integer=True, real=True)\n",
    "# 通过全局假设简化\n",
    "x,y=sympy.symbols(\"x y\", positive=True)\n",
    "sympy.simplify(sympy.Abs(x+y)) # x+y\n",
    "# 临时假设 `Q``\n",
    "from sympy.assumptions import refine, assuming, Q, ask\n",
    "x,y=sympy.symbols(\"x y\")\n",
    "with assuming(Q.integer(x), Q.integer(y)): # 添加假设\n",
    "    ask(Q.integer(x + y)) # returns `True`` # 检测假设成立\n",
    "# 当然这个假设不是很智能\n",
    "with assuming(Q.positive(x-1)): # 添加假设\n",
    "    ask(Q.positive(x)) # None rather than True\n",
    "# 通过临时假设简化。假设之间通过 `&` 连接\n",
    "refine(sympy.Abs(x+y), Q.positive(x) & Q.positive(y)) # x+y\n",
    "refine(sympy.Abs(x+y), Q.positive(x+y-1)) # x+y\n",
    "\n",
    "None # avoid display"
   ]
  },
  {
   "cell_type": "markdown",
   "metadata": {},
   "source": [
    "## 解方程"
   ]
  },
  {
   "cell_type": "code",
   "execution_count": 2,
   "metadata": {},
   "outputs": [],
   "source": [
    "from sympy import solveset, solve, nsolve\n",
    "from sympy import symbols, S, Interval\n",
    "from sympy import pi\n",
    "from sympy.functions import sin, cos\n",
    "x,y,z=symbols('x y z')\n",
    "# 多项式方程\n",
    "solveset(x**2 - y, x) # [-sqrt(y), sqrt(y)]\n",
    "solveset(x**4 - 256, x) # [-4, 4, -4*I, 4*I]\n",
    "xpos=symbols('xpos', real=True)\n",
    "solveset(xpos**4 - 256, xpos) # [-4, 4]\n",
    "solveset(x**4 - 256, x, domain=S.Reals) # {−4,4} 设置定义域\n",
    "# 某些方程\n",
    "solveset(sin(x), x, Interval(-pi, pi)) # {0,−π,π}\n",
    "solveset(sin(x), x) # {2nπ∣n∈Z}∪{2nπ+π∣n∈Z}\n",
    "solveset(cos(x) - x, x) # 超越方程 {x∣x∈C∧−x+cos(x)=0}\n",
    "# 方程组\n",
    "solve([x + y - 2*z, y + 4*z], [x, y]) # {x: 6*z, y: -4*z}\n",
    "solve([x**2 + y - 2*z, y + 4*z], x, y) # [(-sqrt(6)*sqrt(z), -4*z), (sqrt(6)*sqrt(z), -4*z)]\n",
    "nsolve((x**2 + y - 2, y**3 + x + 4), (x,y), (-1, -1)) # 数值解 [ −1.81588898509945, −1.29745280620551 ]\n",
    "solve([x**2 + y - 2, y**3 + x + 4], [x,y]) # 无解析解 []\n",
    "# 单变量微分方程\n",
    "from sympy import Function, dsolve\n",
    "y = Function('f')(x)\n",
    "dsolve(y.diff(x,x) + 9*y, y) # f(x)=C1 sin(3x)+C2 cos(3x)\n",
    "# 方程组\n",
    "f, g = y = symbols(\"f g\", cls=Function)\n",
    "dsolve([\n",
    "    f(x).diff(x)-g(x), \n",
    "    g(x).diff(x)-f(x),\n",
    "], [f(x), g(x)]) # [Eq(f(x), -C1*exp(-x) + C2*exp(x)), Eq(g(x), C1*exp(-x) + C2*exp(x))]\n",
    "\n",
    "None"
   ]
  },
  {
   "cell_type": "markdown",
   "metadata": {},
   "source": [
    "## 矩阵"
   ]
  },
  {
   "cell_type": "code",
   "execution_count": 3,
   "metadata": {},
   "outputs": [],
   "source": [
    "from sympy import S, simplify\n",
    "from sympy.matrices import Matrix\n",
    "# 定义-暴力版\n",
    "m=Matrix(S(\"[[5,y,4],[x,1,z]]\")) # 暴力解析\n",
    "n=Matrix(S(\"[a,b,c]\")) # 一维数组默认为列向量\n",
    "m*n # [ a+by+4c, ax+b+cz ]\n",
    "# 求逆\n",
    "simplify(Matrix(S(\"[[cos(x),sin(x)],[-sin(x),cos(x)]]\"))**-1) # [[cos(x),-sin(x)],[sin(x),cos(x)]]\n",
    "\n",
    "None"
   ]
  },
  {
   "cell_type": "markdown",
   "metadata": {},
   "source": [
    "## 概率分布\n",
    "`sympy.stats` 模块实现了概率分布的符号计算。对一个概率变量有以下函数\n",
    "\n",
    "| 函数 | 意义 |\n",
    "|-|-|\n",
    "| `P(condition)` | 概率 |\n",
    "| `E(expression)` | 期望 |\n",
    "| `variance(expression)` | 方差 |\n",
    "| `H(expression)` | 熵 |\n",
    "| `density(expression)` | 概率密度函数解析式 |\n",
    "| `sample(expression)` | 产生一个样本 |\n",
    "\n"
   ]
  },
  {
   "cell_type": "code",
   "execution_count": 4,
   "metadata": {},
   "outputs": [
    {
     "data": {
      "text/latex": [
       "$\\displaystyle \\frac{1}{2} - \\frac{\\operatorname{erf}{\\left(\\frac{\\sqrt{2}}{4} \\right)}}{2}$"
      ],
      "text/plain": [
       "1/2 - erf(sqrt(2)/4)/2"
      ]
     },
     "execution_count": 4,
     "metadata": {},
     "output_type": "execute_result"
    }
   ],
   "source": [
    "from sympy.stats import P, E, H, variance, density, sample, Normal\n",
    "from sympy import simplify, And\n",
    "Z = Normal('Z', 1, 2) # 正态分布\n",
    "Y = Normal('Y', 1, 2)\n",
    "simplify(P(Z>3)) # 1/2 - erf(sqrt(2)/2)/2\n",
    "E(Z) # 1\n",
    "variance(Z) # 4\n",
    "H(Z) # 1/2 + log(pi)/2 + 3*log(2)/2\n",
    "# density(Z*Y) # 一坨，很慢\n",
    "sample(Z) # 有点慢\n",
    "simplify(P(Z>2))"
   ]
  }
 ],
 "metadata": {
  "kernelspec": {
   "display_name": "Python 3",
   "language": "python",
   "name": "python3"
  },
  "language_info": {
   "codemirror_mode": {
    "name": "ipython",
    "version": 3
   },
   "file_extension": ".py",
   "mimetype": "text/x-python",
   "name": "python",
   "nbconvert_exporter": "python",
   "pygments_lexer": "ipython3",
   "version": "3.12.2"
  }
 },
 "nbformat": 4,
 "nbformat_minor": 2
}
