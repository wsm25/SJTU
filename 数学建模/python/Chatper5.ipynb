{
 "cells": [
  {
   "cell_type": "markdown",
   "metadata": {},
   "source": [
    "# Chapter 5. 特征提取\n",
    "数据是有特征的。从数据中提取特征，我们不但可以享受低熵带来的颅内高潮，在很多场景中还可以做出预测，应对未知的未来。\n",
    "\n"
   ]
  }
 ],
 "metadata": {
  "language_info": {
   "name": "python"
  }
 },
 "nbformat": 4,
 "nbformat_minor": 2
}
